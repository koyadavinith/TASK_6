{
  "cells": [
    {
      "cell_type": "code",
      "execution_count": null,
      "metadata": {
        "id": "aYe71YvW1z5f"
      },
      "outputs": [],
      "source": [
        "import pandas as pd\n",
        "import matplotlib.pyplot as plt\n",
        "import numpy as np\n",
        "from sklearn import linear_model"
      ]
    },
    {
      "cell_type": "markdown",
      "metadata": {
        "id": "B3BJYvqY1z5l"
      },
      "source": [
        "# Assignment5\n"
      ]
    },
    {
      "cell_type": "markdown",
      "metadata": {
        "id": "wS8QWP5R1z5p"
      },
      "source": [
        "## Ground Cricket Chirps\n",
        "\n",
        "In _The Song of Insects_ (1948) by George W. Pierce, Pierce mechanically measured the frequency (the number of wing vibrations per second) of chirps (or pulses of sound) made by a striped ground cricket, at various ground temperatures.  Since crickets are ectotherms (cold-blooded), the rate of their physiological processes and their overall metabolism are influenced by temperature.  Consequently, there is reason to believe that temperature would have a profound effect on aspects of their behavior, such as chirp frequency.\n",
        "\n",
        "In general, it was found that crickets did not sing at temperatures colder than 60º F. or warmer than 100º F."
      ]
    },
    {
      "cell_type": "code",
      "execution_count": null,
      "metadata": {
        "id": "T1NqI6on1z5q"
      },
      "outputs": [],
      "source": [
        "ground_cricket_data = {\"Chirps/Second\": [20.0, 16.0, 19.8, 18.4, 17.1, 15.5, 14.7,\n",
        "                                         15.7, 15.4, 16.3, 15.0, 17.2, 16.0, 17.0,\n",
        "                                         14.4],\n",
        "                       \"Ground Temperature\": [88.6, 71.6, 93.3, 84.3, 80.6, 75.2, 69.7,\n",
        "                                              71.6, 69.4, 83.3, 79.6, 82.6, 80.6, 83.5,\n",
        "                                              76.3]}\n",
        "df = pd.DataFrame(ground_cricket_data)"
      ]
    },
    {
      "cell_type": "markdown",
      "metadata": {
        "id": "DIGs1PyT1z5s"
      },
      "source": [
        "### Tasks\n",
        "\n",
        "1. Find the linear regression equation for this data.\n",
        "2. Chart the original data and the equation on the chart.\n",
        "3. Find the equation's $R^2$ score (use the `.score` method) to determine whether the\n",
        "equation is a good fit for this data. (0.8 and greater is considered a strong correlation.)\n",
        "4. Extrapolate data:  If the ground temperature reached 95, then at what approximate rate would you expect the crickets to be chirping?\n",
        "5. Interpolate data:  With a listening device, you discovered that on a particular morning the crickets were chirping at a rate of 18 chirps per second.  What was the approximate ground temperature that morning? "
      ]
    },
    {
      "cell_type": "code",
      "source": [
        "labels = df[['Ground Temperature']].copy()"
      ],
      "metadata": {
        "id": "Vm9Wd3vD2Cwr"
      },
      "execution_count": null,
      "outputs": []
    },
    {
      "cell_type": "code",
      "source": [
        "response = df[['Chirps/Second']].copy()"
      ],
      "metadata": {
        "id": "EKT_mZaQ2FSw"
      },
      "execution_count": null,
      "outputs": []
    },
    {
      "cell_type": "code",
      "source": [
        "linreg = linear_model.LinearRegression()\n",
        "linreg.fit(labels, response)"
      ],
      "metadata": {
        "colab": {
          "base_uri": "https://localhost:8080/"
        },
        "id": "Me-2LNSe2FI_",
        "outputId": "50d1c204-2a10-4978-88c2-76383ad624b9"
      },
      "execution_count": null,
      "outputs": [
        {
          "output_type": "execute_result",
          "data": {
            "text/plain": [
              "LinearRegression()"
            ]
          },
          "metadata": {},
          "execution_count": 5
        }
      ]
    },
    {
      "cell_type": "markdown",
      "source": [
        "**Linear Regression Equation Coefficients**"
      ],
      "metadata": {
        "id": "fZZOIuif2Nyn"
      }
    },
    {
      "cell_type": "code",
      "source": [
        "print(linreg.intercept_)\n",
        "print(linreg.coef_)"
      ],
      "metadata": {
        "colab": {
          "base_uri": "https://localhost:8080/"
        },
        "id": "vzE1JGLB2FFs",
        "outputId": "89ad0dae-d800-45a8-e0f9-43c551300fd7"
      },
      "execution_count": null,
      "outputs": [
        {
          "output_type": "stream",
          "name": "stdout",
          "text": [
            "[0.45931465]\n",
            "[[0.20299973]]\n"
          ]
        }
      ]
    },
    {
      "cell_type": "markdown",
      "source": [
        "**Plotting the regression against the data**"
      ],
      "metadata": {
        "id": "yILbYRX62kPL"
      }
    },
    {
      "cell_type": "code",
      "source": [
        "plt.scatter(labels, response)\n",
        "plt.plot(labels, linreg.predict(labels))\n",
        "plt.show()"
      ],
      "metadata": {
        "colab": {
          "base_uri": "https://localhost:8080/",
          "height": 265
        },
        "id": "yuENf-WM2FDo",
        "outputId": "f7af1a76-9886-4d37-c4be-7b6a5001f4b6"
      },
      "execution_count": null,
      "outputs": [
        {
          "output_type": "display_data",
          "data": {
            "text/plain": [
              "<Figure size 432x288 with 1 Axes>"
            ],
            "image/png": "[encoded data removed]"
          },
          "metadata": {
            "needs_background": "light"
          }
        }
      ]
    },
    {
      "cell_type": "markdown",
      "source": [
        "# The **R2** score shows that it's not an especially strong correlation "
      ],
      "metadata": {
        "id": "Pqtn5-Wi2vZG"
      }
    },
    {
      "cell_type": "code",
      "source": [
        "linreg.score(labels, response)"
      ],
      "metadata": {
        "colab": {
          "base_uri": "https://localhost:8080/"
        },
        "id": "7CtdWM4w3HW7",
        "outputId": "90fab0f6-a3ef-43d6-a856-9c5580916631"
      },
      "execution_count": null,
      "outputs": [
        {
          "output_type": "execute_result",
          "data": {
            "text/plain": [
              "0.6922946529146998"
            ]
          },
          "metadata": {},
          "execution_count": 8
        }
      ]
    },
    {
      "cell_type": "markdown",
      "source": [
        "\n",
        "# A temperature of 95 predicts 19.74 chirps/s. A 18chirp/s frequency predicts 84 degrees."
      ],
      "metadata": {
        "id": "lNu34sH43MIU"
      }
    },
    {
      "cell_type": "code",
      "source": [
        "new_temp = np.array(95)\n",
        "new_temp = new_temp.reshape(-1,1)\n",
        "linreg.predict(new_temp)"
      ],
      "metadata": {
        "colab": {
          "base_uri": "https://localhost:8080/"
        },
        "id": "6-k8HYTK3KMk",
        "outputId": "6859f55f-cc81-4517-89fb-a71084ad4771"
      },
      "execution_count": null,
      "outputs": [
        {
          "output_type": "stream",
          "name": "stderr",
          "text": [
            "/usr/local/lib/python3.7/dist-packages/sklearn/base.py:451: UserWarning: X does not have valid feature names, but LinearRegression was fitted with feature names\n",
            "  \"X does not have valid feature names, but\"\n"
          ]
        },
        {
          "output_type": "execute_result",
          "data": {
            "text/plain": [
              "array([[19.74428913]])"
            ]
          },
          "metadata": {},
          "execution_count": 13
        }
      ]
    },
    {
      "cell_type": "code",
      "source": [
        "chirp_reg = linear_model.LinearRegression()\n",
        "chirp_reg.fit(response, labels)"
      ],
      "metadata": {
        "colab": {
          "base_uri": "https://localhost:8080/"
        },
        "id": "xgohFoUj3KJB",
        "outputId": "5551cd96-b7ad-41de-a26d-b1cacec31ff6"
      },
      "execution_count": null,
      "outputs": [
        {
          "output_type": "execute_result",
          "data": {
            "text/plain": [
              "LinearRegression()"
            ]
          },
          "metadata": {},
          "execution_count": 10
        }
      ]
    },
    {
      "cell_type": "code",
      "source": [
        "chirp_reg.predict(np.array(18).reshape(-1,1))"
      ],
      "metadata": {
        "colab": {
          "base_uri": "https://localhost:8080/"
        },
        "id": "3MT-Km3u3KHF",
        "outputId": "5bf56c31-3b7a-4348-cb59-f046c3e2b39e"
      },
      "execution_count": null,
      "outputs": [
        {
          "output_type": "stream",
          "name": "stderr",
          "text": [
            "/usr/local/lib/python3.7/dist-packages/sklearn/base.py:451: UserWarning: X does not have valid feature names, but LinearRegression was fitted with feature names\n",
            "  \"X does not have valid feature names, but\"\n"
          ]
        },
        {
          "output_type": "execute_result",
          "data": {
            "text/plain": [
              "array([[84.2347963]])"
            ]
          },
          "metadata": {},
          "execution_count": 14
        }
      ]
    },
    {
      "cell_type": "markdown",
      "metadata": {
        "id": "9ScBTeIN1z5u"
      },
      "source": [
        "# Assignment6"
      ]
    },
    {
      "cell_type": "markdown",
      "metadata": {
        "id": "s-6tDaBy1z5v"
      },
      "source": [
        "## Brain vs. Body Weight\n",
        "\n",
        "In the file `brain_body.txt`, the average brain and body weight for a number of mammal species are recorded. Load this data into a Pandas data frame.\n",
        "\n",
        "### Tasks\n",
        "\n",
        "1. Find the linear regression equation for this data for brain weight to body weight.\n",
        "2. Chart the original data and the equation on the chart.\n",
        "3. Find the equation's $R^2$ score (use the `.score` method) to determine whether the\n",
        "equation is a good fit for this data. (0.8 and greater is considered a strong correlation.)"
      ]
    },
    {
      "cell_type": "code",
      "execution_count": null,
      "metadata": {
        "id": "Bb95cU-E1z5x"
      },
      "outputs": [],
      "source": [
        "df = pd.read_fwf(\"brain_body.txt\")"
      ]
    },
    {
      "cell_type": "markdown",
      "source": [
        "# Brain Body\n",
        "\n",
        "The outliers probably don't distort the slope too much. It looks like the slope coefficient would be similar without them. But the  score (0.87) shows a strong relationship between brain and body weights."
      ],
      "metadata": {
        "id": "IdTwkXPo4aqe"
      }
    },
    {
      "cell_type": "code",
      "source": [
        "independent = df[['Brain']]\n",
        "dependent = df[['Body']]\n",
        "\n",
        "body_reg = linear_model.LinearRegression()\n",
        "body_reg.fit(independent, dependent)\n",
        "\n",
        "\n",
        "plt.scatter(independent, dependent)\n",
        "plt.plot(independent, body_reg.predict(independent))\n",
        "plt.show()\n",
        "\n",
        "body_reg.score(independent, dependent)"
      ],
      "metadata": {
        "colab": {
          "base_uri": "https://localhost:8080/",
          "height": 282
        },
        "id": "4wGOxuNg4Z64",
        "outputId": "f1056fa2-5f3a-4791-b780-29fc6af686eb"
      },
      "execution_count": null,
      "outputs": [
        {
          "output_type": "display_data",
          "data": {
            "text/plain": [
              "<Figure size 432x288 with 1 Axes>"
            ],
            "image/png": "[encoded data removed]"
          },
          "metadata": {
            "needs_background": "light"
          }
        },
        {
          "output_type": "execute_result",
          "data": {
            "text/plain": [
              "0.8726620843043331"
            ]
          },
          "metadata": {},
          "execution_count": 16
        }
      ]
    },
    {
      "cell_type": "code",
      "source": [
        "print('R^2 score for this equation: {:.4f}'\n",
        "      .format(body_reg.score(independent, dependent)))"
      ],
      "metadata": {
        "colab": {
          "base_uri": "https://localhost:8080/"
        },
        "id": "UIHN25Wb4Z34",
        "outputId": "4db86b4d-8979-4b00-e3e8-dd5ce038d728"
      },
      "execution_count": null,
      "outputs": [
        {
          "output_type": "stream",
          "name": "stdout",
          "text": [
            "R^2 score for this equation: 0.8727\n"
          ]
        }
      ]
    },
    {
      "cell_type": "markdown",
      "metadata": {
        "id": "V5RlOj781z5y"
      },
      "source": [
        "# Assignment7"
      ]
    },
    {
      "cell_type": "markdown",
      "metadata": {
        "id": "lXoNJ9wY1z5z"
      },
      "source": [
        "## Salary Discrimination\n",
        "\n",
        "The file `salary.txt` contains data for 52 tenure-track professors at a small Midwestern college. This data was used in legal proceedings in the 1980s about discrimination against women in salary.\n",
        "\n",
        "The data in the file, by column:\n",
        "\n",
        "1. Sex. 1 for female, 0 for male.\n",
        "2. Rank. 1 for assistant professor, 2 for associate professor, 3 for full professor.\n",
        "3. Year. Number of years in current rank.\n",
        "4. Degree. Highest degree. 1 for doctorate, 0 for master's.\n",
        "5. YSdeg. Years since highest degree was earned.\n",
        "6. Salary. Salary/year in dollars.\n",
        "\n",
        "### Tasks\n",
        "\n",
        "1. Find the linear regression equation for this data using columns 1-5 to column 6.\n",
        "2. Find the selection of columns with the best $R^2$ score.\n",
        "3. Report whether sex is a factor in salary."
      ]
    },
    {
      "cell_type": "code",
      "execution_count": null,
      "metadata": {
        "id": "Y5AJ8o7U1z51"
      },
      "outputs": [],
      "source": [
        "df = pd.read_fwf(\"salary.txt\", header=None, \n",
        "                 names=[\"Sex\", \"Rank\", \"Year\", \"Degree\", \"YSdeg\", \"Salary\"])"
      ]
    },
    {
      "cell_type": "code",
      "source": [
        "independent = df[[\"Sex\", \"Rank\", \"Year\", \"Degree\", \"YSdeg\"]]\n",
        "dependent = df.Salary\n"
      ],
      "metadata": {
        "id": "X_BY3aiI6wIT"
      },
      "execution_count": null,
      "outputs": []
    },
    {
      "cell_type": "markdown",
      "source": [
        "# Columns, R2 Scores, Oh my!\n",
        "The combination of all five columns performs best at 0.855. However, Sex alone is seemingly not correlated to Salary."
      ],
      "metadata": {
        "id": "e5-_3RyL5lDo"
      }
    },
    {
      "cell_type": "code",
      "source": [
        "salary_reg = linear_model.LinearRegression()\n",
        "salary_reg.fit(independent, dependent)\n",
        "\n",
        "all_five = salary_reg.score(independent, dependent)\n",
        "all_five_intercept_coefficient = (salary_reg.intercept_, salary_reg.coef_)\n",
        "print(\"All Five R**2 Score: \", all_five)\n",
        "print(\"All Five Intercept & Coefficients: \", all_five_intercept_coefficient)"
      ],
      "metadata": {
        "colab": {
          "base_uri": "https://localhost:8080/"
        },
        "id": "hDsk1fC05vPe",
        "outputId": "38c044c7-6d1b-4176-ebf2-730cce071318"
      },
      "execution_count": null,
      "outputs": [
        {
          "output_type": "stream",
          "name": "stdout",
          "text": [
            "All Five R**2 Score:  0.8547180674410969\n",
            "All Five Intercept & Coefficients:  (11410.14654725559, array([ 1241.7924996 ,  5586.18144952,   482.85976783, -1331.64406341,\n",
            "        -128.79057354]))\n"
          ]
        }
      ]
    },
    {
      "cell_type": "code",
      "source": [
        "independent = df[[\"Sex\", \"Rank\", \"Year\", \"Degree\"]]\n",
        "salary_reg = linear_model.LinearRegression()\n",
        "salary_reg.fit(independent, dependent)\n",
        "\n",
        "s_r_y_d = salary_reg.score(independent, dependent)\n",
        "s_r_y_d_intercept_coefficient = (salary_reg.intercept_, salary_reg.coef_)\n",
        "print(\"s_r_y_d R**2 Score: \", s_r_y_d)\n",
        "print(\"s_r_y_d Intercept & Coefficients: \", s_r_y_d_intercept_coefficient)"
      ],
      "metadata": {
        "colab": {
          "base_uri": "https://localhost:8080/"
        },
        "id": "t3oUTF5v5zCZ",
        "outputId": "bce70801-f76b-4e3a-ab67-b168579cf0e3"
      },
      "execution_count": null,
      "outputs": [
        {
          "output_type": "stream",
          "name": "stdout",
          "text": [
            "s_r_y_d R**2 Score:  0.845547641297936\n",
            "s_r_y_d Intercept & Coefficients:  (11101.27364777424, array([ 608.10026674, 4753.16913715,  391.84035843, -134.21945255]))\n"
          ]
        }
      ]
    },
    {
      "cell_type": "code",
      "source": [
        "independent = df[[\"Sex\", \"Rank\", \"Year\"]]\n",
        "salary_reg = linear_model.LinearRegression()\n",
        "salary_reg.fit(independent, dependent)\n",
        "\n",
        "s_r_y = salary_reg.score(independent, dependent)\n",
        "s_r_y_intercept_coefficient = (salary_reg.intercept_, salary_reg.coef_)\n",
        "print(\"s_r_y R**2 Score: \", s_r_y)\n",
        "print(\"s_r_y Intercept & Coefficients: \", s_r_y_intercept_coefficient)"
      ],
      "metadata": {
        "colab": {
          "base_uri": "https://localhost:8080/"
        },
        "id": "Hc9AcSB86CQn",
        "outputId": "fa1ddeb5-6769-430e-f825-b4ee6765ca1c"
      },
      "execution_count": null,
      "outputs": [
        {
          "output_type": "stream",
          "name": "stdout",
          "text": [
            "s_r_y R**2 Score:  0.8454319861987166\n",
            "s_r_y Intercept & Coefficients:  (11011.762865385323, array([ 603.77322722, 4747.1829411 ,  393.86147574]))\n"
          ]
        }
      ]
    },
    {
      "cell_type": "code",
      "source": [
        "independent = df[[\"Sex\", \"Rank\"]]\n",
        "salary_reg = linear_model.LinearRegression()\n",
        "salary_reg.fit(independent, dependent)\n",
        "\n",
        "s_r = salary_reg.score(independent, dependent)\n",
        "s_r_intercept_coefficient = (salary_reg.intercept_, salary_reg.coef_)\n",
        "print(\"s_r R**2 Score: \", s_r)\n",
        "print(\"s_r Intercept & Coefficients: \", s_r_intercept_coefficient)"
      ],
      "metadata": {
        "colab": {
          "base_uri": "https://localhost:8080/"
        },
        "id": "BCrQy54g65BT",
        "outputId": "9725bb53-ecd7-4391-8b0d-1b6642ed284b"
      },
      "execution_count": null,
      "outputs": [
        {
          "output_type": "stream",
          "name": "stdout",
          "text": [
            "s_r R**2 Score:  0.7554917749443394\n",
            "s_r Intercept & Coefficients:  (12041.938232830831, array([-738.12667504, 5864.44325796]))\n"
          ]
        }
      ]
    },
    {
      "cell_type": "code",
      "source": [
        "independent = df[[\"Sex\"]]\n",
        "salary_reg = linear_model.LinearRegression()\n",
        "salary_reg.fit(independent, dependent)\n",
        "\n",
        "sex = salary_reg.score(independent, dependent)\n",
        "sex_intercept_coefficient = (salary_reg.intercept_, salary_reg.coef_)\n",
        "print(\"sex R**2 Score: \", sex)\n",
        "print(\"sex Intercept & Coefficients: \", sex_intercept_coefficient)"
      ],
      "metadata": {
        "colab": {
          "base_uri": "https://localhost:8080/"
        },
        "id": "uPUN2ppF64_o",
        "outputId": "d58ce038-5f5a-4e81-8cef-ed51da91ca0e"
      },
      "execution_count": null,
      "outputs": [
        {
          "output_type": "stream",
          "name": "stdout",
          "text": [
            "sex R**2 Score:  0.06389892583288004\n",
            "sex Intercept & Coefficients:  (24696.78947368421, array([-3339.64661654]))\n"
          ]
        }
      ]
    }
  ],
  "metadata": {
    "kernelspec": {
      "display_name": "Python 3",
      "language": "python",
      "name": "python3"
    },
    "language_info": {
      "codemirror_mode": {
        "name": "ipython",
        "version": 3
      },
      "file_extension": ".py",
      "mimetype": "text/x-python",
      "name": "python",
      "nbconvert_exporter": "python",
      "pygments_lexer": "ipython3",
      "version": "3.8.3"
    },
    "colab": {
      "name": "Copy of Assignment5_6_7.ipynb",
      "provenance": [],
      "collapsed_sections": []
    }
  },
  "nbformat": 4,
  "nbformat_minor": 0
}